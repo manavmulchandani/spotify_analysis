{
 "cells": [
  {
   "cell_type": "markdown",
   "id": "a4ZsjMiVq5Hg",
   "metadata": {
    "id": "a4ZsjMiVq5Hg"
   },
   "source": [
    "Predicting Song Duration\n"
   ]
  },
  {
   "cell_type": "code",
   "execution_count": 2,
   "id": "5c967250",
   "metadata": {
    "colab": {
     "base_uri": "https://localhost:8080/"
    },
    "id": "5c967250",
    "outputId": "fecb3653-3249-462a-8697-5abf525cd061"
   },
   "outputs": [
    {
     "name": "stdout",
     "output_type": "stream",
     "text": [
      "   Unnamed: 0                track_id                 artists  \\\n",
      "0           0  5SuOikwiRyPMVoIQDJUgSV             Gen Hoshino   \n",
      "1           1  4qPNDBW1i3p13qLCt0Ki3A            Ben Woodward   \n",
      "2           2  1iJBSr7s7jYXzM8EGcbK5b  Ingrid Michaelson;ZAYN   \n",
      "3           3  6lfxq3CG4xtTiEg7opyCyx            Kina Grannis   \n",
      "4           4  5vjLSffimiIP26QG5WcN2K        Chord Overstreet   \n",
      "\n",
      "                                          album_name  \\\n",
      "0                                             Comedy   \n",
      "1                                   Ghost (Acoustic)   \n",
      "2                                     To Begin Again   \n",
      "3  Crazy Rich Asians (Original Motion Picture Sou...   \n",
      "4                                            Hold On   \n",
      "\n",
      "                   track_name  popularity  duration_ms  explicit  \\\n",
      "0                      Comedy          73       230666     False   \n",
      "1            Ghost - Acoustic          55       149610     False   \n",
      "2              To Begin Again          57       210826     False   \n",
      "3  Can't Help Falling In Love          71       201933     False   \n",
      "4                     Hold On          82       198853     False   \n",
      "\n",
      "   danceability  energy  ...  loudness  mode  speechiness  acousticness  \\\n",
      "0         0.676  0.4610  ...    -6.746     0       0.1430        0.0322   \n",
      "1         0.420  0.1660  ...   -17.235     1       0.0763        0.9240   \n",
      "2         0.438  0.3590  ...    -9.734     1       0.0557        0.2100   \n",
      "3         0.266  0.0596  ...   -18.515     1       0.0363        0.9050   \n",
      "4         0.618  0.4430  ...    -9.681     1       0.0526        0.4690   \n",
      "\n",
      "   instrumentalness  liveness  valence    tempo  time_signature  track_genre  \n",
      "0          0.000001    0.3580    0.715   87.917               4     acoustic  \n",
      "1          0.000006    0.1010    0.267   77.489               4     acoustic  \n",
      "2          0.000000    0.1170    0.120   76.332               4     acoustic  \n",
      "3          0.000071    0.1320    0.143  181.740               3     acoustic  \n",
      "4          0.000000    0.0829    0.167  119.949               4     acoustic  \n",
      "\n",
      "[5 rows x 21 columns]\n"
     ]
    }
   ],
   "source": [
    "import pandas as pd\n",
    "from sklearn.model_selection import train_test_split\n",
    "from sklearn.preprocessing import StandardScaler\n",
    "from sklearn.linear_model import LinearRegression\n",
    "from sklearn.ensemble import RandomForestRegressor, GradientBoostingRegressor\n",
    "from sklearn.metrics import mean_squared_error, r2_score, mean_absolute_error\n",
    "import matplotlib.pyplot as plt\n",
    "\n",
    "# Loading the dataset\n",
    "file_path = 'spotify-dataset.csv'\n",
    "df = pd.read_csv(file_path)\n",
    "\n",
    "# Displaying the first few rows\n",
    "print(df.head())"
   ]
  },
  {
   "cell_type": "code",
   "execution_count": 3,
   "id": "1b7a1780",
   "metadata": {
    "colab": {
     "base_uri": "https://localhost:8080/"
    },
    "id": "1b7a1780",
    "outputId": "9ce10539-1905-4d93-9706-3d94e9aff68e"
   },
   "outputs": [
    {
     "data": {
      "text/plain": [
       "Unnamed: 0            int64\n",
       "track_id             object\n",
       "artists              object\n",
       "album_name           object\n",
       "track_name           object\n",
       "popularity            int64\n",
       "duration_ms           int64\n",
       "explicit               bool\n",
       "danceability        float64\n",
       "energy              float64\n",
       "key                   int64\n",
       "loudness            float64\n",
       "mode                  int64\n",
       "speechiness         float64\n",
       "acousticness        float64\n",
       "instrumentalness    float64\n",
       "liveness            float64\n",
       "valence             float64\n",
       "tempo               float64\n",
       "time_signature        int64\n",
       "track_genre          object\n",
       "dtype: object"
      ]
     },
     "execution_count": 3,
     "metadata": {},
     "output_type": "execute_result"
    }
   ],
   "source": [
    "# Displaying the data types\n",
    "df.dtypes"
   ]
  },
  {
   "cell_type": "markdown",
   "id": "7qERi1atp5v0",
   "metadata": {
    "id": "7qERi1atp5v0"
   },
   "source": [
    "**DATA PREPROCESSING**\n",
    "\n",
    "Data preprocessing helps to prepare raw data for effective model training, leading to better performance and more accurate predictions. In our case it ensures that the input features are in a consistent format and range, allowing machine learning models to effectively learn patterns and make accurate predictions on the duration of tracks in the Spotify dataset."
   ]
  },
  {
   "cell_type": "code",
   "execution_count": 4,
   "id": "35dbcaaf",
   "metadata": {
    "id": "35dbcaaf"
   },
   "outputs": [],
   "source": [
    "#DATA PREPROCESSING\n",
    "\n",
    "# Removing rows with any NA values\n",
    "df.dropna(inplace=True)\n",
    "\n",
    "# Removing rows with blank strings for string columns\n",
    "str_columns = df.select_dtypes(include=['object']).columns\n",
    "df = df[df[str_columns].apply(lambda x: x.str.strip().astype(bool)).all(axis=1)]\n",
    "\n",
    "# Trimming leading and trailing whitespaces from string columns\n",
    "df[str_columns] = df[str_columns].apply(lambda x: x.str.strip())\n",
    "\n",
    "# Dropping the duplicate values starting from column 2 in order to exclude the index\n",
    "df = df.drop_duplicates(subset=df.columns[1:])\n"
   ]
  },
  {
   "cell_type": "code",
   "execution_count": 5,
   "id": "9a4031ca",
   "metadata": {
    "colab": {
     "base_uri": "https://localhost:8080/"
    },
    "id": "9a4031ca",
    "outputId": "ab9f7603-80fd-499e-b8cb-b1e6169331de"
   },
   "outputs": [
    {
     "name": "stdout",
     "output_type": "stream",
     "text": [
      "<class 'pandas.core.frame.DataFrame'>\n",
      "Index: 113549 entries, 0 to 113999\n",
      "Data columns (total 21 columns):\n",
      " #   Column            Non-Null Count   Dtype  \n",
      "---  ------            --------------   -----  \n",
      " 0   Unnamed: 0        113549 non-null  int64  \n",
      " 1   track_id          113549 non-null  object \n",
      " 2   artists           113549 non-null  object \n",
      " 3   album_name        113549 non-null  object \n",
      " 4   track_name        113549 non-null  object \n",
      " 5   popularity        113549 non-null  int64  \n",
      " 6   duration_ms       113549 non-null  int64  \n",
      " 7   explicit          113549 non-null  bool   \n",
      " 8   danceability      113549 non-null  float64\n",
      " 9   energy            113549 non-null  float64\n",
      " 10  key               113549 non-null  int64  \n",
      " 11  loudness          113549 non-null  float64\n",
      " 12  mode              113549 non-null  int64  \n",
      " 13  speechiness       113549 non-null  float64\n",
      " 14  acousticness      113549 non-null  float64\n",
      " 15  instrumentalness  113549 non-null  float64\n",
      " 16  liveness          113549 non-null  float64\n",
      " 17  valence           113549 non-null  float64\n",
      " 18  tempo             113549 non-null  float64\n",
      " 19  time_signature    113549 non-null  int64  \n",
      " 20  track_genre       113549 non-null  object \n",
      "dtypes: bool(1), float64(9), int64(6), object(5)\n",
      "memory usage: 18.3+ MB\n"
     ]
    }
   ],
   "source": [
    "df.info()"
   ]
  },
  {
   "cell_type": "markdown",
   "id": "k-dP58g4vxBt",
   "metadata": {
    "id": "k-dP58g4vxBt"
   },
   "source": [
    "**MODEL BUILDING**\n",
    "\n",
    "In this section, we will initialize and train machine learning models to predict song duration based on various features. We start by defining the predictive features and the target variable, followed by preprocessing steps such as one-hot encoding for categorical variables and splitting the data into training and testing sets.\n"
   ]
  },
  {
   "cell_type": "code",
   "execution_count": 6,
   "id": "fee81744",
   "metadata": {
    "id": "fee81744"
   },
   "outputs": [],
   "source": [
    "# Defining the predictive features and target\n",
    "features = ['popularity', 'explicit', 'danceability', 'energy', 'key', 'loudness', 'mode', 'speechiness',\n",
    "            'acousticness', 'instrumentalness', 'liveness', 'valence', 'tempo', 'time_signature', 'track_genre']\n",
    "target = 'duration_ms'\n",
    "\n",
    "X = df[features]\n",
    "y = df[target]\n",
    "\n",
    "# Performing one-hot encoding for categorical variables\n",
    "X_encoded = pd.get_dummies(X, columns=['mode', 'explicit', 'track_genre'])\n",
    "\n",
    "# Splitting data into train and test sets\n",
    "X_train, X_test, y_train, y_test = train_test_split(X_encoded, y, test_size=0.2, random_state=42)\n"
   ]
  },
  {
   "cell_type": "markdown",
   "id": "r9poVpN1pd7a",
   "metadata": {
    "id": "r9poVpN1pd7a"
   },
   "source": [
    "Standardizing features ensures stablity, efficiency, and effectiveness across different types of machine learning algorithms."
   ]
  },
  {
   "cell_type": "code",
   "execution_count": 7,
   "id": "0b6300ad",
   "metadata": {
    "id": "0b6300ad"
   },
   "outputs": [],
   "source": [
    "# Standardizing features\n",
    "scaler = StandardScaler()\n",
    "X_train_scaled = scaler.fit_transform(X_train)\n",
    "X_test_scaled = scaler.transform(X_test)\n"
   ]
  },
  {
   "cell_type": "markdown",
   "id": "feq7Vp_2xdMl",
   "metadata": {
    "id": "feq7Vp_2xdMl"
   },
   "source": [
    "**Linear Regression Model**\n",
    "\n",
    "The below code trains a Linear Regression model to predict song duration based on the specified predictive features. It then evaluates the model's performance using mean squared error, R-squared score, and mean absolute error metrics."
   ]
  },
  {
   "cell_type": "code",
   "execution_count": 8,
   "id": "f1e41494",
   "metadata": {
    "colab": {
     "base_uri": "https://localhost:8080/"
    },
    "id": "f1e41494",
    "outputId": "15e11f21-554d-4e3d-9a45-2151eaef7b91"
   },
   "outputs": [
    {
     "name": "stdout",
     "output_type": "stream",
     "text": [
      "\n",
      "Evaluation Metrics:\n",
      "Mean Squared Error: 9159722574.52\n",
      "R-squared Score: 0.19\n",
      "Mean Absolute Error: 52659.01\n"
     ]
    }
   ],
   "source": [
    "# Initializing and training the model\n",
    "linear_model = LinearRegression()\n",
    "linear_model.fit(X_train_scaled, y_train)\n",
    "\n",
    "'''# Optional code to Load the model using pickle file created\n",
    "with open('linear_regression_model.pkl', 'rb') as file:\n",
    "    linear_regression_loaded_model = pickle.load(file)'''\n",
    "\n",
    "# Evaluating the Linear Regression model\n",
    "linear_pred = linear_model.predict(X_test_scaled)\n",
    "linear_mse = mean_squared_error(y_test, linear_pred)\n",
    "linear_r2 = r2_score(y_test, linear_pred)\n",
    "linear_mae = mean_absolute_error(y_test, linear_pred)\n",
    "\n",
    "# Printing evaluation metrics\n",
    "print(\"\\nEvaluation Metrics:\")\n",
    "print(f\"Mean Squared Error: {linear_mse:.2f}\")\n",
    "print(f\"R-squared Score: {linear_r2:.2f}\")\n",
    "print(f\"Mean Absolute Error: {linear_mae:.2f}\")"
   ]
  },
  {
   "cell_type": "markdown",
   "id": "y-PpST-lyiFl",
   "metadata": {
    "id": "y-PpST-lyiFl"
   },
   "source": [
    "**Random Forest Regression Model**\n",
    "\n",
    "The RandomForestRegressor is configured with 30 decision trees(n_estimators) to form a diverse ensemble. n_estimators determines the complexity of the random forest model by setting the number of trees. The random_state parameter, set to 42, ensures consistent results by controlling the random initialization of the trees."
   ]
  },
  {
   "cell_type": "code",
   "execution_count": 9,
   "id": "cfe4833c",
   "metadata": {
    "colab": {
     "base_uri": "https://localhost:8080/"
    },
    "id": "cfe4833c",
    "outputId": "957553d1-7206-42d7-c71d-5dcd2419616d"
   },
   "outputs": [
    {
     "name": "stdout",
     "output_type": "stream",
     "text": [
      "\n",
      "Evaluation Metrics:\n",
      "Mean Squared Error: 7880851893.50\n",
      "R-squared Score: 0.30\n",
      "Mean Absolute Error: 41440.12\n"
     ]
    }
   ],
   "source": [
    "# Initializing and training the model\n",
    "rf_model = RandomForestRegressor(n_estimators=30, random_state=42)\n",
    "rf_model.fit(X_train_scaled, y_train)\n",
    "\n",
    "'''# Optional code to Load the model using pickle file created\n",
    "with open('random_forest_regression_model.pkl', 'rb') as file:\n",
    "    random_forest_loaded_model = pickle.load(file)'''\n",
    " \n",
    "# Evaluating the Random Forest Regression model\n",
    "rf_pred = rf_model.predict(X_test_scaled)\n",
    "rf_mse = mean_squared_error(y_test, rf_pred)\n",
    "rf_r2 = r2_score(y_test, rf_pred)\n",
    "rf_mae = mean_absolute_error(y_test, rf_pred)\n",
    "\n",
    "# Print evaluation metrics\n",
    "print(\"\\nEvaluation Metrics:\")\n",
    "print(f\"Mean Squared Error: {rf_mse:.2f}\")\n",
    "print(f\"R-squared Score: {rf_r2:.2f}\")\n",
    "print(f\"Mean Absolute Error: {rf_mae:.2f}\")\n"
   ]
  },
  {
   "cell_type": "markdown",
   "id": "fY8IiBFo0i5z",
   "metadata": {
    "id": "fY8IiBFo0i5z"
   },
   "source": [
    "**Gradient Boosting Regression Model**\n",
    "\n",
    "The GradientBoostingRegressor model is initialized with 30 boosting stages (n_estimators) for sequential training of decision trees. The random_state parameter, set to 42, ensures reproducibility of results during model initialization."
   ]
  },
  {
   "cell_type": "code",
   "execution_count": 10,
   "id": "61a8b1c1",
   "metadata": {
    "colab": {
     "base_uri": "https://localhost:8080/"
    },
    "id": "61a8b1c1",
    "outputId": "89cd68c7-33dc-44f3-9274-59584533d909"
   },
   "outputs": [
    {
     "name": "stdout",
     "output_type": "stream",
     "text": [
      "\n",
      "Evaluation Metrics:\n",
      "Mean Squared Error: 9811373756.36\n",
      "R-squared Score: 0.13\n",
      "Mean Absolute Error: 56347.85\n"
     ]
    }
   ],
   "source": [
    "# Initializing and training the model\n",
    "gb_model = GradientBoostingRegressor(n_estimators=30, random_state=42)\n",
    "gb_model.fit(X_train_scaled, y_train)\n",
    "\n",
    "'''# Optional code to Load the model using pickle file created\n",
    "with open('gradient_boosting_regression_model.pkl', 'rb') as file:\n",
    "    gradient_boosting_loaded_model = pickle.load(file)'''\n",
    "\n",
    "# Evaluating Gradient Boosting Regression model\n",
    "gb_pred = gb_model.predict(X_test_scaled)\n",
    "gb_mse = mean_squared_error(y_test, gb_pred)\n",
    "gb_r2 = r2_score(y_test, gb_pred)\n",
    "gb_mae = mean_absolute_error(y_test, gb_pred)\n",
    "\n",
    "# Printing evaluation metrics\n",
    "print(\"\\nEvaluation Metrics:\")\n",
    "print(f\"Mean Squared Error: {gb_mse:.2f}\")\n",
    "print(f\"R-squared Score: {gb_r2:.2f}\")\n",
    "print(f\"Mean Absolute Error: {gb_mae:.2f}\")\n"
   ]
  },
  {
   "cell_type": "markdown",
   "id": "bac9152e",
   "metadata": {},
   "source": [
    "**MODEL EVALUATION**\n",
    "\n",
    "This code block visualizes the evaluation metrics (Mean Squared Error, R-squared Score, and Mean Absolute Error) for three different regression models: Linear Regression, Random Forest Regression, and Gradient Boosting Regression, using bar plots for a comparative analysis. It then identifies and displays the best performing model based on the lowest Mean Squared Error (MSE), alongside its corresponding R2 Score and Mean Absolute Error (MAE), enabling an informed decision on model selection for predictive accuracy and efficiency."
   ]
  },
  {
   "cell_type": "code",
   "execution_count": 13,
   "id": "a378453a",
   "metadata": {
    "colab": {
     "base_uri": "https://localhost:8080/",
     "height": 593
    },
    "id": "5138948c",
    "outputId": "e5a5b21e-0be7-454f-d9ed-7d9939f23d95"
   },
   "outputs": [
    {
     "data": {
      "image/png": "[encoded data removed]",
      "text/plain": [
       "<Figure size 1000x500 with 3 Axes>"
      ]
     },
     "metadata": {},
     "output_type": "display_data"
    },
    {
     "name": "stdout",
     "output_type": "stream",
     "text": [
      "Best Model based on Evaluation Metrics:\n",
      "Model: Random Forest Regression\n",
      "MSE: 7880851893.50\n",
      "R2 Score: 0.30\n",
      "MAE: 41440.12\n"
     ]
    }
   ],
   "source": [
    "# Block 8: Visualizing results and comparing models\n",
    "import matplotlib.pyplot as plt\n",
    "import numpy as np\n",
    "\n",
    "# Evaluation metrics for all models\n",
    "models = ['Linear Regression', 'Random Forest Regression', 'Gradient Boosting Regression']\n",
    "mses = [linear_mse, rf_mse, gb_mse]\n",
    "r2_scores = [linear_r2, rf_r2, gb_r2]\n",
    "maes = [linear_mae, rf_mae, gb_mae]\n",
    "\n",
    "# Plotting evaluation metrics\n",
    "plt.figure(figsize=(10, 5))\n",
    "\n",
    "# Mean Squared Error\n",
    "plt.subplot(1, 3, 1)\n",
    "plt.bar(models, mses, color='skyblue')\n",
    "plt.title('Mean Squared Error')\n",
    "plt.xlabel('Model')\n",
    "plt.ylabel('MSE')\n",
    "plt.xticks(rotation=45)\n",
    "\n",
    "# R-squared Score\n",
    "plt.subplot(1, 3, 2)\n",
    "plt.bar(models, r2_scores, color='salmon')\n",
    "plt.title('R-squared Score')\n",
    "plt.xlabel('Model')\n",
    "plt.ylabel('R2 Score')\n",
    "plt.xticks(rotation=45)\n",
    "\n",
    "# Mean Absolute Error\n",
    "plt.subplot(1, 3, 3)\n",
    "plt.bar(models, maes, color='lightgreen')\n",
    "plt.title('Mean Absolute Error')\n",
    "plt.xlabel('Model')\n",
    "plt.ylabel('MAE')\n",
    "plt.xticks(rotation=45)\n",
    "\n",
    "plt.tight_layout()\n",
    "plt.show()\n",
    "\n",
    "# Compare models based on evaluation metrics\n",
    "best_model_index = np.argmin(mses)  # Select model with lowest MSE as the best model\n",
    "\n",
    "print(\"Best Model based on Evaluation Metrics:\")\n",
    "print(f\"Model: {models[best_model_index]}\")\n",
    "print(f\"MSE: {mses[best_model_index]:.2f}\")\n",
    "print(f\"R2 Score: {r2_scores[best_model_index]:.2f}\")\n",
    "print(f\"MAE: {maes[best_model_index]:.2f}\")\n"
   ]
  },
  {
   "cell_type": "markdown",
   "id": "d27c8997",
   "metadata": {},
   "source": [
    "**INSIGHTS AND RECOMMENDATIONS**\n",
    "\n",
    "The Random Forest Regression model outperforms others with the lowest Mean Squared Error (MSE), a moderate R2 score, and a low Mean Absolute Error (MAE), making it the best choice for accurately predicting durations. The Random Forest Regression model for predicting song duration offers significant advantages for playlist curation and monetization in the music streaming industry.\n",
    "\n",
    "Business Insights:\n",
    "\n",
    "1. Enhanced Playlist Curation: With duration predictions, Spotify can craft playlists that match user preferences more closely, improving user experience and retention.\n",
    "2. Strategic Ad Placement: Predictive insights on song durations enable smarter ad insertions into playlists, optimizing monetization without disrupting the listening experience.\n",
    "\n",
    "Recommendations:\n",
    "\n",
    "1. Integrate Predictions into Artist Tools: Provide analytics tools for artists on Spotify. Artists can then give their genre and song features to get optimal duration for their tracks.\n",
    "2. Dynamic Playlist Adjustment: Predictive modeling can be used to adjust playlists in real-time, ensuring seamless transitions and listener satisfaction.\n",
    "3. Ad Strategy Optimization: Implement duration prediction to refine ad timing, balancing revenue generation with user experience.\n",
    "\n",
    "Leveraging the Random Forest model for song duration prediction can lead to improved content creation, playlist curation, and monetization strategies, driving value for artists and, streaming platforms."
   ]
  },
  {
   "cell_type": "code",
   "execution_count": null,
   "id": "62464fda",
   "metadata": {},
   "outputs": [],
   "source": [
    "import pickle\n",
    "\n",
    "# Saving all the three models using pickle library\n",
    "\n",
    "with open('linear_regression_model.pkl', 'wb') as file:\n",
    "    pickle.dump(linear_model, file)\n",
    "with open('random_forest_regression_model.pkl', 'wb') as file:\n",
    "    pickle.dump(rf_model, file)\n",
    "with open('gradient_boosting_regression_model.pkl', 'wb') as file:\n",
    "    pickle.dump(gb_model, file)\n",
    "    "
   ]
  }
 ],
 "metadata": {
  "colab": {
   "provenance": []
  },
  "kernelspec": {
   "display_name": "Python 3 (ipykernel)",
   "language": "python",
   "name": "python3"
  },
  "language_info": {
   "codemirror_mode": {
    "name": "ipython",
    "version": 3
   },
   "file_extension": ".py",
   "mimetype": "text/x-python",
   "name": "python",
   "nbconvert_exporter": "python",
   "pygments_lexer": "ipython3",
   "version": "3.11.5"
  }
 },
 "nbformat": 4,
 "nbformat_minor": 5
}
